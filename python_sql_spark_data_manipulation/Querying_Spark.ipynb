{
 "cells": [
  {
   "cell_type": "markdown",
   "metadata": {
    "_cell_guid": "b1076dfc-b9ad-4769-8c92-a6c4dae69d19",
    "_uuid": "8f2839f25d086af736a60e9eeb907d3b93b6e0e5",
    "papermill": {
     "duration": 0.027567,
     "end_time": "2020-09-27T11:50:34.715117",
     "exception": false,
     "start_time": "2020-09-27T11:50:34.687550",
     "status": "completed"
    },
    "tags": []
   },
   "source": [
    "<a id='top'></a>\n",
    "<div class=\"list-group\" id=\"list-tab\" role=\"tablist\">\n",
    "<h3 class=\"list-group-item list-group-item-action active\" data-toggle=\"list\"  role=\"tab\" aria-controls=\"home\">Contents</h3>\n",
    "\n",
    "[0. Introduction](#0)     \n",
    "[1. Filtering Data](#1)     \n",
    "    &nbsp;&nbsp;&nbsp;&nbsp;[Exercise A. Using the filter method](#A)   \n",
    "    &nbsp;&nbsp;&nbsp;&nbsp;[Exercise B. Using the isNotNull method and combined conditions](#B)    \n",
    "[2. Selecting](#2)     \n",
    "    &nbsp;&nbsp;&nbsp;&nbsp;[Exercise C. Using the select method](#C)  \n",
    "[3. Column Data Type Changes](#3)    \n",
    "    &nbsp;&nbsp;&nbsp;&nbsp;[Exercise D. Using cast to change data types](#D)    \n",
    "[4. Aggregating](#4)     \n",
    "    &nbsp;&nbsp;&nbsp;&nbsp;[Exercise E. Creating GroupedData objects and Aggregating](#E)    \n",
    "    &nbsp;&nbsp;&nbsp;&nbsp;[Exercise F. Grouping and Aggregating](#F)             \n",
    "[5. Summary](#5)"
   ]
  },
  {
   "cell_type": "markdown",
   "metadata": {},
   "source": [
    "<a id=\"0\"></a>\n",
    "# Introduction\n",
    "\n",
    "This set of lab exercises continues from the Spark DataFrames introduction with a focus on Spark DataFrame methods that can be used for querying.\n",
    "\n",
    "As you have seen previously, when .sql() is used with a DataFrame a SQL query can be entered as a string. This is great if you are used to working with SQL, but if you are more comfortable using Pandas data frame methods you might have been wishing for something similar! Additionally, where multiple transformations are required one after another it can be useful to have methods that can be 'dotted' one after another in sequence to produce a single new data frame.\n",
    "\n",
    "This lab considers how the following methods can be used for querying:\n",
    "\n",
    "**DataFrame methods**\n",
    "\n",
    ".filter(condition) This will filter rows using the condition you input and will return all columns (alternative to SELECT * FROM DataFrame WHERE condition).\n",
    "\n",
    ".isNotNull() This is a useful method for creating conditions that require a data entry to be non-null.\n",
    "\n",
    ".select(columns) This will return just the columns you request (alternative to SELECT columns FROM DataFrame).\n",
    "\n",
    ".printSchema() This will show you the table schema. Also: .summary() or .describe(). These are useful if you want a quick summary view.\n",
    "\n",
    ".groupBy() This is used for grouping rows together with summary statistics of each group (usually used with one or more of the summary statistics methods listed below).\n",
    "\n",
    ".withColumnRenamed() This creates a new data frame with the title of a column renamed. It needs both the existing column title, and the new one as inputs.\n",
    "\n",
    ".join() This joins two data frames: the one before the dot with the one you give as the first input. You can optionally give two further inputs: on: to specify which columns are to be matched and how: to specify the type of join (the default is an inner join - where a row is from both tables and repeated rows are not included).\n",
    "\n",
    "**Column methods**\n",
    "\n",
    ".cast() For changing the data type of a column.\n",
    "\n",
    "**Summary Stats**\n",
    "\n",
    ".min() This gives the smallest value.\n",
    "\n",
    ".max() This gives the largest value.\n",
    "\n",
    ".avg() The documentations cryptically states that this gives the average... look out for which type of average!\n",
    "\n",
    ".sum() This gives the total.\n",
    "\n",
    ".stddev() This gives the sample standard deviation (average spread of the data).\n",
    "\n",
    "\n",
    "\n"
   ]
  },
  {
   "cell_type": "markdown",
   "metadata": {},
   "source": [
    "We must first set up and load the dataset:"
   ]
  },
  {
   "cell_type": "code",
   "execution_count": 2,
   "metadata": {
    "papermill": {
     "duration": 6.140947,
     "end_time": "2020-09-27T11:51:33.542100",
     "exception": false,
     "start_time": "2020-09-27T11:51:27.401153",
     "status": "completed"
    },
    "tags": []
   },
   "outputs": [
    {
     "name": "stdout",
     "output_type": "stream",
     "text": [
      "<pyspark.sql.session.SparkSession object at 0x7f66cf379cc0>\n"
     ]
    }
   ],
   "source": [
    "from pyspark.sql import SparkSession\n",
    "\n",
    "spark = SparkSession.builder.getOrCreate()\n",
    "print(spark)"
   ]
  },
  {
   "cell_type": "code",
   "execution_count": 3,
   "metadata": {
    "papermill": {
     "duration": 7.074612,
     "end_time": "2020-09-27T11:51:40.873766",
     "exception": false,
     "start_time": "2020-09-27T11:51:33.799154",
     "status": "completed"
    },
    "tags": []
   },
   "outputs": [
    {
     "name": "stdout",
     "output_type": "stream",
     "text": [
      "+------+--------+--------------------+------+------+-----+-----+--------+\n",
      "|pclass|survived|                name|   sex|   age|sibsp|parch|    fare|\n",
      "+------+--------+--------------------+------+------+-----+-----+--------+\n",
      "|     1|       1|Allen, Miss. Elis...|female|    29|    0|    0|211.3375|\n",
      "|     1|       1|Allison, Master. ...|  male|0.9167|    1|    2|151.5500|\n",
      "|     1|       0|Allison, Miss. He...|female|     2|    1|    2|151.5500|\n",
      "|     1|       0|Allison, Mr. Huds...|  male|    30|    1|    2|151.5500|\n",
      "|     1|       0|Allison, Mrs. Hud...|female|    25|    1|    2|151.5500|\n",
      "|     1|       1| Anderson, Mr. Harry|  male|    48|    0|    0| 26.5500|\n",
      "|     1|       1|Andrews, Miss. Ko...|female|    63|    1|    0| 77.9583|\n",
      "|     1|       0|Andrews, Mr. Thom...|  male|    39|    0|    0|  0.0000|\n",
      "|     1|       1|Appleton, Mrs. Ed...|female|    53|    2|    0| 51.4792|\n",
      "|     1|       0|Artagaveytia, Mr....|  male|    71|    0|    0| 49.5042|\n",
      "|     1|       0|Astor, Col. John ...|  male|    47|    1|    0|227.5250|\n",
      "|     1|       1|Astor, Mrs. John ...|female|    18|    1|    0|227.5250|\n",
      "|     1|       1|Aubart, Mme. Leon...|female|    24|    0|    0| 69.3000|\n",
      "|     1|       1|\"Barber, Miss. El...|female|    26|    0|    0| 78.8500|\n",
      "|     1|       1|Barkworth, Mr. Al...|  male|    80|    0|    0| 30.0000|\n",
      "|     1|       0| Baumann, Mr. John D|  male|  null|    0|    0| 25.9250|\n",
      "|     1|       0|Baxter, Mr. Quigg...|  male|    24|    0|    1|247.5208|\n",
      "|     1|       1|Baxter, Mrs. Jame...|female|    50|    0|    1|247.5208|\n",
      "|     1|       1|Bazzani, Miss. Al...|female|    32|    0|    0| 76.2917|\n",
      "|     1|       0|Beattie, Mr. Thomson|  male|    36|    0|    0| 75.2417|\n",
      "+------+--------+--------------------+------+------+-----+-----+--------+\n",
      "only showing top 20 rows\n",
      "\n"
     ]
    }
   ],
   "source": [
    "filepath = \"./titanic.csv\"\n",
    "\n",
    "titanic = spark.read.csv(filepath, header = True)\n",
    "\n",
    "titanic.show()"
   ]
  },
  {
   "cell_type": "markdown",
   "metadata": {
    "papermill": {
     "duration": 0.226495,
     "end_time": "2020-09-27T11:51:41.340296",
     "exception": false,
     "start_time": "2020-09-27T11:51:41.113801",
     "status": "completed"
    },
    "tags": []
   },
   "source": [
    "<a id=\"1\"></a>\n",
    "# 1. Filtering Data\n",
    "\n",
    "We will start by using .filter(condition). \n",
    "\n",
    "This will filter rows using the condition you input in the parentheses and will return all columns. \n",
    "\n",
    "It is an alternative to using a query like this one: SELECT * FROM DataFrame WHERE condition. So whatever you would have put as your condition is what you would input in the .filter() method.\n",
    "\n",
    "A condition must produce a True or False (boolean) result. So it could be just a boolean variable, or it could be an expression which returns either true or false.\n",
    "\n",
    "Expressions can include the following comparison operators:\n",
    "\n",
    "== \"Is equal to\"\n",
    "\n",
    "<> \"Is not equal to\". Note that it does not accept =! for not equal to.\n",
    "\n",
    "< \"Is less than\"\n",
    "\n",
    "<= \"Is less than or equal to\"\n",
    "\n",
    "\\> \"Is greater than\"\n",
    "\n",
    "\\>= \"Is greater than or equal to\"\n",
    "\n",
    "We can pass the expression into the filter method in two different ways.\n",
    "\n",
    "1. As a string: e.g. titanic.filter(\"fare < 100\")\n",
    "\n",
    "2. As a column of boolean values: e.g. titanic.filter(fare < 100)"
   ]
  },
  {
   "cell_type": "code",
   "execution_count": 21,
   "metadata": {},
   "outputs": [
    {
     "name": "stdout",
     "output_type": "stream",
     "text": [
      "+------+--------+--------------------+------+---+-----+-----+-------+\n",
      "|pclass|survived|                name|   sex|age|sibsp|parch|   fare|\n",
      "+------+--------+--------------------+------+---+-----+-----+-------+\n",
      "|     1|       1| Anderson, Mr. Harry|  male| 48|    0|    0|26.5500|\n",
      "|     1|       1|Andrews, Miss. Ko...|female| 63|    1|    0|77.9583|\n",
      "|     1|       0|Andrews, Mr. Thom...|  male| 39|    0|    0| 0.0000|\n",
      "|     1|       1|Appleton, Mrs. Ed...|female| 53|    2|    0|51.4792|\n",
      "|     1|       0|Artagaveytia, Mr....|  male| 71|    0|    0|49.5042|\n",
      "+------+--------+--------------------+------+---+-----+-----+-------+\n",
      "only showing top 5 rows\n",
      "\n"
     ]
    }
   ],
   "source": [
    "#demonstration\n",
    "condition = \"fare < 100\"\n",
    "\n",
    "result = titanic.filter(condition)\n",
    "\n",
    "result.show(5)"
   ]
  },
  {
   "cell_type": "code",
   "execution_count": 20,
   "metadata": {},
   "outputs": [
    {
     "name": "stdout",
     "output_type": "stream",
     "text": [
      "+------+--------+--------------------+------+---+-----+-----+-------+\n",
      "|pclass|survived|                name|   sex|age|sibsp|parch|   fare|\n",
      "+------+--------+--------------------+------+---+-----+-----+-------+\n",
      "|     1|       1| Anderson, Mr. Harry|  male| 48|    0|    0|26.5500|\n",
      "|     1|       1|Andrews, Miss. Ko...|female| 63|    1|    0|77.9583|\n",
      "|     1|       0|Andrews, Mr. Thom...|  male| 39|    0|    0| 0.0000|\n",
      "|     1|       1|Appleton, Mrs. Ed...|female| 53|    2|    0|51.4792|\n",
      "|     1|       0|Artagaveytia, Mr....|  male| 71|    0|    0|49.5042|\n",
      "+------+--------+--------------------+------+---+-----+-----+-------+\n",
      "only showing top 5 rows\n",
      "\n"
     ]
    }
   ],
   "source": [
    "#demonstration\n",
    "condition = titanic.fare < 100\n",
    "\n",
    "result = titanic.filter(condition)\n",
    "\n",
    "result.show(5)"
   ]
  },
  {
   "cell_type": "markdown",
   "metadata": {},
   "source": [
    "<a id=\"A\"></a>\n",
    "### Exercise A. Using the filter method\n",
    "\n",
    "1. Use .filter() on titanic to show the rows where the passenger survived.\n",
    "\n",
    "2. Show the rows where the fare was not £151.55.\n",
    "\n",
    "3. Show the rows where the passenger was 50 or under.\n",
    "\n",
    "4. Show the rows where the passenger was travelling with 2 or more siblings or spouses."
   ]
  },
  {
   "cell_type": "code",
   "execution_count": 10,
   "metadata": {},
   "outputs": [
    {
     "name": "stdout",
     "output_type": "stream",
     "text": [
      "+------+--------+--------------------+------+------+-----+-----+--------+\n",
      "|pclass|survived|                name|   sex|   age|sibsp|parch|    fare|\n",
      "+------+--------+--------------------+------+------+-----+-----+--------+\n",
      "|     1|       1|Allen, Miss. Elis...|female|    29|    0|    0|211.3375|\n",
      "|     1|       1|Allison, Master. ...|  male|0.9167|    1|    2|151.5500|\n",
      "|     1|       1| Anderson, Mr. Harry|  male|    48|    0|    0| 26.5500|\n",
      "|     1|       1|Andrews, Miss. Ko...|female|    63|    1|    0| 77.9583|\n",
      "|     1|       1|Appleton, Mrs. Ed...|female|    53|    2|    0| 51.4792|\n",
      "+------+--------+--------------------+------+------+-----+-----+--------+\n",
      "only showing top 5 rows\n",
      "\n"
     ]
    }
   ],
   "source": [
    "condition = \"survived == 1\"\n",
    "result = titanic.filter(condition)\n",
    "result.show(5)"
   ]
  },
  {
   "cell_type": "code",
   "execution_count": 12,
   "metadata": {},
   "outputs": [
    {
     "name": "stdout",
     "output_type": "stream",
     "text": [
      "+------+--------+--------------------+------+---+-----+-----+--------+\n",
      "|pclass|survived|                name|   sex|age|sibsp|parch|    fare|\n",
      "+------+--------+--------------------+------+---+-----+-----+--------+\n",
      "|     1|       1|Allen, Miss. Elis...|female| 29|    0|    0|211.3375|\n",
      "|     1|       1| Anderson, Mr. Harry|  male| 48|    0|    0| 26.5500|\n",
      "|     1|       1|Andrews, Miss. Ko...|female| 63|    1|    0| 77.9583|\n",
      "|     1|       0|Andrews, Mr. Thom...|  male| 39|    0|    0|  0.0000|\n",
      "|     1|       1|Appleton, Mrs. Ed...|female| 53|    2|    0| 51.4792|\n",
      "+------+--------+--------------------+------+---+-----+-----+--------+\n",
      "only showing top 5 rows\n",
      "\n"
     ]
    }
   ],
   "source": [
    "condition = \"fare <> 151.55\"\n",
    "result = titanic.filter(condition)\n",
    "result.show(5)"
   ]
  },
  {
   "cell_type": "code",
   "execution_count": 23,
   "metadata": {},
   "outputs": [
    {
     "name": "stdout",
     "output_type": "stream",
     "text": [
      "+------+--------+--------------------+------+------+-----+-----+--------+\n",
      "|pclass|survived|                name|   sex|   age|sibsp|parch|    fare|\n",
      "+------+--------+--------------------+------+------+-----+-----+--------+\n",
      "|     1|       1|Allen, Miss. Elis...|female|    29|    0|    0|211.3375|\n",
      "|     1|       1|Allison, Master. ...|  male|0.9167|    1|    2|151.5500|\n",
      "|     1|       0|Allison, Miss. He...|female|     2|    1|    2|151.5500|\n",
      "|     1|       0|Allison, Mr. Huds...|  male|    30|    1|    2|151.5500|\n",
      "|     1|       0|Allison, Mrs. Hud...|female|    25|    1|    2|151.5500|\n",
      "+------+--------+--------------------+------+------+-----+-----+--------+\n",
      "only showing top 5 rows\n",
      "\n"
     ]
    }
   ],
   "source": [
    "condition = \"age <= 50\"\n",
    "result = titanic.filter(condition)\n",
    "result.show(5)"
   ]
  },
  {
   "cell_type": "code",
   "execution_count": 24,
   "metadata": {},
   "outputs": [
    {
     "name": "stdout",
     "output_type": "stream",
     "text": [
      "+------+--------+--------------------+------+---+-----+-----+--------+\n",
      "|pclass|survived|                name|   sex|age|sibsp|parch|    fare|\n",
      "+------+--------+--------------------+------+---+-----+-----+--------+\n",
      "|     1|       1|Appleton, Mrs. Ed...|female| 53|    2|    0| 51.4792|\n",
      "|     1|       1|Brown, Mrs. John ...|female| 59|    2|    0| 51.4792|\n",
      "|     1|       1|Cornell, Mrs. Rob...|female| 55|    2|    0| 25.7000|\n",
      "|     1|       1|Fortune, Miss. Al...|female| 24|    3|    2|263.0000|\n",
      "|     1|       1|Fortune, Miss. Et...|female| 28|    3|    2|263.0000|\n",
      "+------+--------+--------------------+------+---+-----+-----+--------+\n",
      "only showing top 5 rows\n",
      "\n"
     ]
    }
   ],
   "source": [
    "condition = \"sibsp >= 2\"\n",
    "result = titanic.filter(condition)\n",
    "result.show(5)"
   ]
  },
  {
   "cell_type": "markdown",
   "metadata": {},
   "source": [
    "We can also combine conditions using logical operators:\n",
    "\n",
    "& and : (AND) Both conditions must be true to give a final true result.\n",
    "\n",
    "| or : (OR) Either or both conditions must be true to give a final true result. Note that this takes lower precedence in order of operations (an & will be checked first unless brackets force it otherwise).\n",
    "\n",
    "For example:"
   ]
  },
  {
   "cell_type": "code",
   "execution_count": 38,
   "metadata": {},
   "outputs": [
    {
     "name": "stdout",
     "output_type": "stream",
     "text": [
      "+------+--------+--------------------+------+---+-----+-----+--------+\n",
      "|pclass|survived|                name|   sex|age|sibsp|parch|    fare|\n",
      "+------+--------+--------------------+------+---+-----+-----+--------+\n",
      "|     1|       1|Allen, Miss. Elis...|female| 29|    0|    0|211.3375|\n",
      "|     1|       1|   Bird, Miss. Ellen|female| 29|    0|    0|221.7792|\n",
      "+------+--------+--------------------+------+---+-----+-----+--------+\n",
      "\n"
     ]
    }
   ],
   "source": [
    "#demonstration\n",
    "#These conditions give a True result if data is present\n",
    "condition1 = titanic.age==29\n",
    "condition2 = titanic.pclass==1\n",
    "condition3 = titanic.survived==1\n",
    "\n",
    "#If all three of the selected columns meet the criteria the row will be returned.\n",
    "result = titanic.filter(condition1 & condition2 & condition3)\n",
    "result.show()"
   ]
  },
  {
   "cell_type": "markdown",
   "metadata": {},
   "source": [
    "The above example is equivalent to filtering each condition one at a time. We can 'stack' methods by continuing to dot more methods (they will occur in the order you read them).\n",
    "\n",
    "This gives the same result:"
   ]
  },
  {
   "cell_type": "code",
   "execution_count": 39,
   "metadata": {},
   "outputs": [
    {
     "name": "stdout",
     "output_type": "stream",
     "text": [
      "+------+--------+--------------------+------+---+-----+-----+--------+\n",
      "|pclass|survived|                name|   sex|age|sibsp|parch|    fare|\n",
      "+------+--------+--------------------+------+---+-----+-----+--------+\n",
      "|     1|       1|Allen, Miss. Elis...|female| 29|    0|    0|211.3375|\n",
      "|     1|       1|   Bird, Miss. Ellen|female| 29|    0|    0|221.7792|\n",
      "+------+--------+--------------------+------+---+-----+-----+--------+\n",
      "\n"
     ]
    }
   ],
   "source": [
    "#demonstration\n",
    "#These conditions give a True result if data is present\n",
    "condition1 = titanic.age==29\n",
    "condition2 = titanic.pclass==1\n",
    "condition3 = titanic.survived==1\n",
    "\n",
    "#If all three of the selected columns meet the criteria the row will be returned.\n",
    "result = titanic.filter(condition1).filter(condition2).filter(condition3)\n",
    "result.show()"
   ]
  },
  {
   "cell_type": "markdown",
   "metadata": {},
   "source": [
    "The method .isNotNull() can be used after a column is selected and will return a true or false.\n",
    "\n",
    "This means it can be used as the condition in a filter."
   ]
  },
  {
   "cell_type": "code",
   "execution_count": 47,
   "metadata": {},
   "outputs": [
    {
     "data": {
      "text/plain": [
       "1309"
      ]
     },
     "execution_count": 47,
     "metadata": {},
     "output_type": "execute_result"
    }
   ],
   "source": [
    "#Demonstration\n",
    "#First, how many rows in the whole set:\n",
    "titanic.count()"
   ]
  },
  {
   "cell_type": "code",
   "execution_count": 48,
   "metadata": {},
   "outputs": [
    {
     "name": "stdout",
     "output_type": "stream",
     "text": [
      "1046\n"
     ]
    }
   ],
   "source": [
    "#Demonstration\n",
    "#Now filter out the rows that have age missing, followed by counting how many rows are left:\n",
    "condition = titanic.age.isNotNull()\n",
    "print(titanic.filter(condition).count())"
   ]
  },
  {
   "cell_type": "markdown",
   "metadata": {},
   "source": [
    "<a id=\"B\"></a>\n",
    "### Exercise B. Using the isNotNull method and combined conditions\n",
    "\n",
    "These questions require you to create conditions using .isNotNull() on columns and either the use of logical operators or method stacking to return combined results.\n",
    "\n",
    "1. Create conditions to check if age, sibsp, and parch contain data.\n",
    "\n",
    "2. Use .filter() with logical operators to return all the rows that aren't missing age, sibsp, parch (i.e. no missing values). Use .count() to check your results.\n",
    "\n",
    "3. Use .filter() stacked three times to produce the same results.\n",
    "\n",
    "4. Extend your previous answer by stacking further methods to display the results.\n",
    "\n",
    "5. Did anyone survive third class who were 60 or over?\n",
    "\n",
    "Discuss: Is it better to have one line of code made up of stacked methods? \n",
    "\n",
    "Prompts: Do you think it will run any differently? (faster/slower/more memory?)\n",
    "Which is easier for you and other developers to read?"
   ]
  },
  {
   "cell_type": "code",
   "execution_count": 49,
   "metadata": {},
   "outputs": [],
   "source": [
    "condition1 = titanic.age.isNotNull()\n",
    "condition2 = titanic.sibsp.isNotNull()\n",
    "condition3 = titanic.parch.isNotNull()"
   ]
  },
  {
   "cell_type": "code",
   "execution_count": 50,
   "metadata": {},
   "outputs": [
    {
     "name": "stdout",
     "output_type": "stream",
     "text": [
      "+------+--------+--------------------+------+------+-----+-----+--------+\n",
      "|pclass|survived|                name|   sex|   age|sibsp|parch|    fare|\n",
      "+------+--------+--------------------+------+------+-----+-----+--------+\n",
      "|     1|       1|Allen, Miss. Elis...|female|    29|    0|    0|211.3375|\n",
      "|     1|       1|Allison, Master. ...|  male|0.9167|    1|    2|151.5500|\n",
      "|     1|       0|Allison, Miss. He...|female|     2|    1|    2|151.5500|\n",
      "|     1|       0|Allison, Mr. Huds...|  male|    30|    1|    2|151.5500|\n",
      "|     1|       0|Allison, Mrs. Hud...|female|    25|    1|    2|151.5500|\n",
      "|     1|       1| Anderson, Mr. Harry|  male|    48|    0|    0| 26.5500|\n",
      "|     1|       1|Andrews, Miss. Ko...|female|    63|    1|    0| 77.9583|\n",
      "|     1|       0|Andrews, Mr. Thom...|  male|    39|    0|    0|  0.0000|\n",
      "|     1|       1|Appleton, Mrs. Ed...|female|    53|    2|    0| 51.4792|\n",
      "|     1|       0|Artagaveytia, Mr....|  male|    71|    0|    0| 49.5042|\n",
      "|     1|       0|Astor, Col. John ...|  male|    47|    1|    0|227.5250|\n",
      "|     1|       1|Astor, Mrs. John ...|female|    18|    1|    0|227.5250|\n",
      "|     1|       1|Aubart, Mme. Leon...|female|    24|    0|    0| 69.3000|\n",
      "|     1|       1|\"Barber, Miss. El...|female|    26|    0|    0| 78.8500|\n",
      "|     1|       1|Barkworth, Mr. Al...|  male|    80|    0|    0| 30.0000|\n",
      "|     1|       0|Baxter, Mr. Quigg...|  male|    24|    0|    1|247.5208|\n",
      "|     1|       1|Baxter, Mrs. Jame...|female|    50|    0|    1|247.5208|\n",
      "|     1|       1|Bazzani, Miss. Al...|female|    32|    0|    0| 76.2917|\n",
      "|     1|       0|Beattie, Mr. Thomson|  male|    36|    0|    0| 75.2417|\n",
      "|     1|       1|Beckwith, Mr. Ric...|  male|    37|    1|    1| 52.5542|\n",
      "+------+--------+--------------------+------+------+-----+-----+--------+\n",
      "only showing top 20 rows\n",
      "\n"
     ]
    },
    {
     "data": {
      "text/plain": [
       "1046"
      ]
     },
     "execution_count": 50,
     "metadata": {},
     "output_type": "execute_result"
    }
   ],
   "source": [
    "result = titanic.filter(condition1 & condition2 & condition3)\n",
    "result.show()\n",
    "result.count()"
   ]
  },
  {
   "cell_type": "code",
   "execution_count": 51,
   "metadata": {},
   "outputs": [
    {
     "name": "stdout",
     "output_type": "stream",
     "text": [
      "+------+--------+--------------------+------+------+-----+-----+--------+\n",
      "|pclass|survived|                name|   sex|   age|sibsp|parch|    fare|\n",
      "+------+--------+--------------------+------+------+-----+-----+--------+\n",
      "|     1|       1|Allen, Miss. Elis...|female|    29|    0|    0|211.3375|\n",
      "|     1|       1|Allison, Master. ...|  male|0.9167|    1|    2|151.5500|\n",
      "|     1|       0|Allison, Miss. He...|female|     2|    1|    2|151.5500|\n",
      "|     1|       0|Allison, Mr. Huds...|  male|    30|    1|    2|151.5500|\n",
      "|     1|       0|Allison, Mrs. Hud...|female|    25|    1|    2|151.5500|\n",
      "|     1|       1| Anderson, Mr. Harry|  male|    48|    0|    0| 26.5500|\n",
      "|     1|       1|Andrews, Miss. Ko...|female|    63|    1|    0| 77.9583|\n",
      "|     1|       0|Andrews, Mr. Thom...|  male|    39|    0|    0|  0.0000|\n",
      "|     1|       1|Appleton, Mrs. Ed...|female|    53|    2|    0| 51.4792|\n",
      "|     1|       0|Artagaveytia, Mr....|  male|    71|    0|    0| 49.5042|\n",
      "|     1|       0|Astor, Col. John ...|  male|    47|    1|    0|227.5250|\n",
      "|     1|       1|Astor, Mrs. John ...|female|    18|    1|    0|227.5250|\n",
      "|     1|       1|Aubart, Mme. Leon...|female|    24|    0|    0| 69.3000|\n",
      "|     1|       1|\"Barber, Miss. El...|female|    26|    0|    0| 78.8500|\n",
      "|     1|       1|Barkworth, Mr. Al...|  male|    80|    0|    0| 30.0000|\n",
      "|     1|       0|Baxter, Mr. Quigg...|  male|    24|    0|    1|247.5208|\n",
      "|     1|       1|Baxter, Mrs. Jame...|female|    50|    0|    1|247.5208|\n",
      "|     1|       1|Bazzani, Miss. Al...|female|    32|    0|    0| 76.2917|\n",
      "|     1|       0|Beattie, Mr. Thomson|  male|    36|    0|    0| 75.2417|\n",
      "|     1|       1|Beckwith, Mr. Ric...|  male|    37|    1|    1| 52.5542|\n",
      "+------+--------+--------------------+------+------+-----+-----+--------+\n",
      "only showing top 20 rows\n",
      "\n"
     ]
    },
    {
     "data": {
      "text/plain": [
       "1046"
      ]
     },
     "execution_count": 51,
     "metadata": {},
     "output_type": "execute_result"
    }
   ],
   "source": [
    "result = titanic.filter(condition1).filter(condition2).filter(condition3)\n",
    "result.show()\n",
    "result.count()"
   ]
  },
  {
   "cell_type": "code",
   "execution_count": 53,
   "metadata": {},
   "outputs": [
    {
     "name": "stdout",
     "output_type": "stream",
     "text": [
      "+------+--------+--------------------+------+------+-----+-----+--------+\n",
      "|pclass|survived|                name|   sex|   age|sibsp|parch|    fare|\n",
      "+------+--------+--------------------+------+------+-----+-----+--------+\n",
      "|     1|       1|Allen, Miss. Elis...|female|    29|    0|    0|211.3375|\n",
      "|     1|       1|Allison, Master. ...|  male|0.9167|    1|    2|151.5500|\n",
      "|     1|       0|Allison, Miss. He...|female|     2|    1|    2|151.5500|\n",
      "|     1|       0|Allison, Mr. Huds...|  male|    30|    1|    2|151.5500|\n",
      "|     1|       0|Allison, Mrs. Hud...|female|    25|    1|    2|151.5500|\n",
      "|     1|       1| Anderson, Mr. Harry|  male|    48|    0|    0| 26.5500|\n",
      "|     1|       1|Andrews, Miss. Ko...|female|    63|    1|    0| 77.9583|\n",
      "|     1|       0|Andrews, Mr. Thom...|  male|    39|    0|    0|  0.0000|\n",
      "|     1|       1|Appleton, Mrs. Ed...|female|    53|    2|    0| 51.4792|\n",
      "|     1|       0|Artagaveytia, Mr....|  male|    71|    0|    0| 49.5042|\n",
      "|     1|       0|Astor, Col. John ...|  male|    47|    1|    0|227.5250|\n",
      "|     1|       1|Astor, Mrs. John ...|female|    18|    1|    0|227.5250|\n",
      "|     1|       1|Aubart, Mme. Leon...|female|    24|    0|    0| 69.3000|\n",
      "|     1|       1|\"Barber, Miss. El...|female|    26|    0|    0| 78.8500|\n",
      "|     1|       1|Barkworth, Mr. Al...|  male|    80|    0|    0| 30.0000|\n",
      "|     1|       0|Baxter, Mr. Quigg...|  male|    24|    0|    1|247.5208|\n",
      "|     1|       1|Baxter, Mrs. Jame...|female|    50|    0|    1|247.5208|\n",
      "|     1|       1|Bazzani, Miss. Al...|female|    32|    0|    0| 76.2917|\n",
      "|     1|       0|Beattie, Mr. Thomson|  male|    36|    0|    0| 75.2417|\n",
      "|     1|       1|Beckwith, Mr. Ric...|  male|    37|    1|    1| 52.5542|\n",
      "+------+--------+--------------------+------+------+-----+-----+--------+\n",
      "only showing top 20 rows\n",
      "\n"
     ]
    }
   ],
   "source": [
    "titanic.filter(condition1).filter(condition2).filter(condition3).show()"
   ]
  },
  {
   "cell_type": "code",
   "execution_count": 57,
   "metadata": {},
   "outputs": [
    {
     "name": "stdout",
     "output_type": "stream",
     "text": [
      "+------+--------+--------------------+------+---+-----+-----+------+\n",
      "|pclass|survived|                name|   sex|age|sibsp|parch|  fare|\n",
      "+------+--------+--------------------+------+---+-----+-----+------+\n",
      "|     3|       1|Turkula, Mrs. (He...|female| 63|    0|    0|9.5875|\n",
      "+------+--------+--------------------+------+---+-----+-----+------+\n",
      "\n"
     ]
    }
   ],
   "source": [
    "conditionA = \"survived == 1\"\n",
    "conditionB = \"pclass == 3\"\n",
    "conditionC = \"age >= 60\"\n",
    "\n",
    "titanic.filter(conditionA).filter(conditionB).filter(conditionC).show()"
   ]
  },
  {
   "cell_type": "markdown",
   "metadata": {
    "papermill": {
     "duration": 0.230061,
     "end_time": "2020-09-27T11:51:46.876403",
     "exception": false,
     "start_time": "2020-09-27T11:51:46.646342",
     "status": "completed"
    },
    "tags": []
   },
   "source": [
    "<a id=\"2\"></a>\n",
    "# 2. Selecting\n",
    "\n",
    "The previous examples using .filter() allowed us how to report particular records (rows), but they still returned all columns in the table.\n",
    "\n",
    "This could be quite a problem if you have a significant number of columns!\n",
    "\n",
    "Even if you have a small table it is useful to be able to select particular columns.\n",
    "\n",
    ".filter(condition) gives us the equivalent of SELECT * FROM table WHERE condition.\n",
    "\n",
    ".select(columns) gives us the equivalent of SELECT columns FROM table.\n",
    "\n",
    "During the exercises we will begin by displaying some columns and build up to using this with filter (to produce the equivalent of SELECT columns FROM table WHERE condition).\n",
    "\n",
    "To use .select() just list the names of your columns seperated by commas as inputs in the parentheses.\n",
    "\n",
    "To give a column name you can either do this with quotation marks (as a string) or give the name of the data frame dot column.\n",
    "\n",
    "i.e. either table.select(\"col1\", \"col2\") or table.select(table.col1, table.col2).\n"
   ]
  },
  {
   "cell_type": "markdown",
   "metadata": {},
   "source": [
    "<a id=\"C\"></a>\n",
    "### Exercise C. Using the select method\n",
    "\n",
    "1. Use the titanic DataFrame with .select() to display the age column\n",
    "\n",
    "2. Save the pclass, sex, and age columns as selection1. Display selection1 to check your results.\n",
    "\n",
    "3. Find another way to do the same thing as the previous question.\n",
    "\n",
    "4. Display the class and ages of passengers in second class.\n",
    "\n",
    "5. Display just the ages of passengers in second class. Does it make a difference whether you use .filter() or .select() first?\n",
    "\n",
    "6. Display the class, sex, and age of female passengers in second class who survived.\n",
    "\n",
    "Challenge\n",
    "\n",
    "7. Display the survival, sex, and age of passengers who were either female or were under 18 (either sex). How many women and children survived?"
   ]
  },
  {
   "cell_type": "code",
   "execution_count": 7,
   "metadata": {},
   "outputs": [
    {
     "name": "stdout",
     "output_type": "stream",
     "text": [
      "+------+\n",
      "|   age|\n",
      "+------+\n",
      "|    29|\n",
      "|0.9167|\n",
      "|     2|\n",
      "|    30|\n",
      "|    25|\n",
      "|    48|\n",
      "|    63|\n",
      "|    39|\n",
      "|    53|\n",
      "|    71|\n",
      "|    47|\n",
      "|    18|\n",
      "|    24|\n",
      "|    26|\n",
      "|    80|\n",
      "|  null|\n",
      "|    24|\n",
      "|    50|\n",
      "|    32|\n",
      "|    36|\n",
      "+------+\n",
      "only showing top 20 rows\n",
      "\n"
     ]
    }
   ],
   "source": [
    "titanic.select(\"age\").show()\n",
    "#or \n",
    "#titanic.select(titanic.age).show()"
   ]
  },
  {
   "cell_type": "code",
   "execution_count": 10,
   "metadata": {},
   "outputs": [
    {
     "name": "stdout",
     "output_type": "stream",
     "text": [
      "+------+------+------+\n",
      "|pclass|   sex|   age|\n",
      "+------+------+------+\n",
      "|     1|female|    29|\n",
      "|     1|  male|0.9167|\n",
      "|     1|female|     2|\n",
      "|     1|  male|    30|\n",
      "|     1|female|    25|\n",
      "|     1|  male|    48|\n",
      "|     1|female|    63|\n",
      "|     1|  male|    39|\n",
      "|     1|female|    53|\n",
      "|     1|  male|    71|\n",
      "|     1|  male|    47|\n",
      "|     1|female|    18|\n",
      "|     1|female|    24|\n",
      "|     1|female|    26|\n",
      "|     1|  male|    80|\n",
      "|     1|  male|  null|\n",
      "|     1|  male|    24|\n",
      "|     1|female|    50|\n",
      "|     1|female|    32|\n",
      "|     1|  male|    36|\n",
      "+------+------+------+\n",
      "only showing top 20 rows\n",
      "\n"
     ]
    }
   ],
   "source": [
    "#2 ways of doing this:\n",
    "selection1 = titanic.select(\"pclass\", \"sex\", \"age\")\n",
    "#or\n",
    "#selection1 = titanic.select(titanic.pclass, titanic.sex, titanic.age)\n",
    "selection1.show()"
   ]
  },
  {
   "cell_type": "code",
   "execution_count": 6,
   "metadata": {},
   "outputs": [
    {
     "name": "stdout",
     "output_type": "stream",
     "text": [
      "+------+---+\n",
      "|pclass|age|\n",
      "+------+---+\n",
      "|     2| 30|\n",
      "|     2| 28|\n",
      "|     2| 30|\n",
      "|     2| 18|\n",
      "|     2| 25|\n",
      "|     2| 34|\n",
      "|     2| 36|\n",
      "|     2| 57|\n",
      "|     2| 18|\n",
      "|     2| 23|\n",
      "|     2| 36|\n",
      "|     2| 28|\n",
      "|     2| 51|\n",
      "|     2| 32|\n",
      "|     2| 19|\n",
      "|     2| 28|\n",
      "|     2|  1|\n",
      "|     2|  4|\n",
      "|     2| 12|\n",
      "|     2| 36|\n",
      "+------+---+\n",
      "only showing top 20 rows\n",
      "\n"
     ]
    }
   ],
   "source": [
    "condition = \"pclass == 2\"\n",
    "titanic.select(\"pclass\", \"age\").filter(condition).show()"
   ]
  },
  {
   "cell_type": "code",
   "execution_count": 9,
   "metadata": {},
   "outputs": [
    {
     "name": "stdout",
     "output_type": "stream",
     "text": [
      "+---+\n",
      "|age|\n",
      "+---+\n",
      "| 30|\n",
      "| 28|\n",
      "| 30|\n",
      "| 18|\n",
      "| 25|\n",
      "| 34|\n",
      "| 36|\n",
      "| 57|\n",
      "| 18|\n",
      "| 23|\n",
      "| 36|\n",
      "| 28|\n",
      "| 51|\n",
      "| 32|\n",
      "| 19|\n",
      "| 28|\n",
      "|  1|\n",
      "|  4|\n",
      "| 12|\n",
      "| 36|\n",
      "+---+\n",
      "only showing top 20 rows\n",
      "\n"
     ]
    }
   ],
   "source": [
    "condition = \"pclass == 2\"\n",
    "titanic.select(\"age\").filter(condition).show()"
   ]
  },
  {
   "cell_type": "code",
   "execution_count": 10,
   "metadata": {},
   "outputs": [
    {
     "name": "stdout",
     "output_type": "stream",
     "text": [
      "+---+\n",
      "|age|\n",
      "+---+\n",
      "| 30|\n",
      "| 28|\n",
      "| 30|\n",
      "| 18|\n",
      "| 25|\n",
      "| 34|\n",
      "| 36|\n",
      "| 57|\n",
      "| 18|\n",
      "| 23|\n",
      "| 36|\n",
      "| 28|\n",
      "| 51|\n",
      "| 32|\n",
      "| 19|\n",
      "| 28|\n",
      "|  1|\n",
      "|  4|\n",
      "| 12|\n",
      "| 36|\n",
      "+---+\n",
      "only showing top 20 rows\n",
      "\n"
     ]
    }
   ],
   "source": [
    "condition = \"pclass == 2\"\n",
    "titanic.filter(condition).select(\"age\").show()"
   ]
  },
  {
   "cell_type": "code",
   "execution_count": 14,
   "metadata": {},
   "outputs": [
    {
     "name": "stdout",
     "output_type": "stream",
     "text": [
      "+------+------+---+\n",
      "|pclass|   sex|age|\n",
      "+------+------+---+\n",
      "|     2|female| 28|\n",
      "|     2|female| 36|\n",
      "|     2|female| 36|\n",
      "|     2|female| 19|\n",
      "|     2|female|  4|\n",
      "|     2|female| 12|\n",
      "|     2|female| 36|\n",
      "|     2|female| 19|\n",
      "|     2|female| 24|\n",
      "|     2|female| 15|\n",
      "|     2|female| 40|\n",
      "|     2|female| 20|\n",
      "|     2|female| 36|\n",
      "|     2|female| 42|\n",
      "|     2|female| 22|\n",
      "|     2|female| 35|\n",
      "|     2|female| 25|\n",
      "|     2|female| 45|\n",
      "|     2|female| 28|\n",
      "|     2|female|  8|\n",
      "+------+------+---+\n",
      "only showing top 20 rows\n",
      "\n"
     ]
    }
   ],
   "source": [
    "condition1 = \"pclass == 2\"\n",
    "condition2 = \"sex == 'female'\"\n",
    "condition3 = \"survived == 1\"\n",
    "titanic.select(\"pclass\", \"sex\", \"age\").filter(condition1).filter(condition2).filter(condition3).show()"
   ]
  },
  {
   "cell_type": "code",
   "execution_count": 17,
   "metadata": {},
   "outputs": [
    {
     "name": "stdout",
     "output_type": "stream",
     "text": [
      "+--------+------+---+\n",
      "|survived|   sex|age|\n",
      "+--------+------+---+\n",
      "|       1|female| 29|\n",
      "|       1|female| 63|\n",
      "|       1|female| 53|\n",
      "|       1|female| 18|\n",
      "|       1|female| 24|\n",
      "|       1|female| 26|\n",
      "|       1|female| 50|\n",
      "|       1|female| 32|\n",
      "|       1|female| 47|\n",
      "|       1|female| 42|\n",
      "|       1|female| 29|\n",
      "|       1|female| 19|\n",
      "|       1|female| 35|\n",
      "|       1|female| 30|\n",
      "|       1|female| 58|\n",
      "|       1|female| 45|\n",
      "|       1|female| 22|\n",
      "|       1|female| 44|\n",
      "|       1|female| 59|\n",
      "|       1|female| 60|\n",
      "+--------+------+---+\n",
      "only showing top 20 rows\n",
      "\n"
     ]
    }
   ],
   "source": [
    "condition1 = \"sex == 'female'\"\n",
    "condition2 = \"age < 18\"\n",
    "condition3 = \"survived == 1\"\n",
    "survivingWomenAndChildren = titanic.select(\"survived\", \"sex\", \"age\").filter(condition1 or condition2).filter(condition3)\n",
    "survivingWomenAndChildren.show()"
   ]
  },
  {
   "cell_type": "code",
   "execution_count": 18,
   "metadata": {},
   "outputs": [
    {
     "data": {
      "text/plain": [
       "339"
      ]
     },
     "execution_count": 18,
     "metadata": {},
     "output_type": "execute_result"
    }
   ],
   "source": [
    "survivingWomenAndChildren.count()"
   ]
  },
  {
   "cell_type": "markdown",
   "metadata": {
    "papermill": {
     "duration": 0.243333,
     "end_time": "2020-09-27T11:51:49.507499",
     "exception": false,
     "start_time": "2020-09-27T11:51:49.264166",
     "status": "completed"
    },
    "tags": []
   },
   "source": [
    "<a id=\"3\"></a>\n",
    "# 3. Column Data Type Changes\n",
    "\n",
    "Shortly we will move on to perform calculations and work out summary statistics on particular columns - using .select() to pick out the ones we wish to work with.\n",
    "\n",
    "For instance, an analyst might ask themselves what the typical age of survivors was, whether having siblings/spouses, parents/children, or being in a particular class changed anything about your survival chances.\n",
    "\n",
    "All this first requires that the columns are a numeric data type in order for the mathematical operations in our commands to work.\n",
    "\n",
    ".printSchema() can be used to quickly see the column names and data types.\n",
    "\n",
    "Below you can see that parch (number of parents or children a passenger has) is a string. In the demonstration you will see .cast() used to convert this to a string and then .printSchema() and .show() to check the results."
   ]
  },
  {
   "cell_type": "code",
   "execution_count": 19,
   "metadata": {},
   "outputs": [
    {
     "name": "stdout",
     "output_type": "stream",
     "text": [
      "root\n",
      " |-- pclass: string (nullable = true)\n",
      " |-- survived: string (nullable = true)\n",
      " |-- name: string (nullable = true)\n",
      " |-- sex: string (nullable = true)\n",
      " |-- age: string (nullable = true)\n",
      " |-- sibsp: string (nullable = true)\n",
      " |-- parch: string (nullable = true)\n",
      " |-- fare: string (nullable = true)\n",
      "\n"
     ]
    }
   ],
   "source": [
    "#Demonstration\n",
    "titanic.printSchema()"
   ]
  },
  {
   "cell_type": "code",
   "execution_count": 20,
   "metadata": {},
   "outputs": [
    {
     "name": "stdout",
     "output_type": "stream",
     "text": [
      "+------+--------+--------------------+------+------+-----+-----+--------+\n",
      "|pclass|survived|                name|   sex|   age|sibsp|parch|    fare|\n",
      "+------+--------+--------------------+------+------+-----+-----+--------+\n",
      "|     1|       1|Allen, Miss. Elis...|female|    29|    0|    0|211.3375|\n",
      "|     1|       1|Allison, Master. ...|  male|0.9167|    1|    2|151.5500|\n",
      "|     1|       0|Allison, Miss. He...|female|     2|    1|    2|151.5500|\n",
      "|     1|       0|Allison, Mr. Huds...|  male|    30|    1|    2|151.5500|\n",
      "|     1|       0|Allison, Mrs. Hud...|female|    25|    1|    2|151.5500|\n",
      "|     1|       1| Anderson, Mr. Harry|  male|    48|    0|    0| 26.5500|\n",
      "|     1|       1|Andrews, Miss. Ko...|female|    63|    1|    0| 77.9583|\n",
      "|     1|       0|Andrews, Mr. Thom...|  male|    39|    0|    0|  0.0000|\n",
      "|     1|       1|Appleton, Mrs. Ed...|female|    53|    2|    0| 51.4792|\n",
      "|     1|       0|Artagaveytia, Mr....|  male|    71|    0|    0| 49.5042|\n",
      "|     1|       0|Astor, Col. John ...|  male|    47|    1|    0|227.5250|\n",
      "|     1|       1|Astor, Mrs. John ...|female|    18|    1|    0|227.5250|\n",
      "|     1|       1|Aubart, Mme. Leon...|female|    24|    0|    0| 69.3000|\n",
      "|     1|       1|\"Barber, Miss. El...|female|    26|    0|    0| 78.8500|\n",
      "|     1|       1|Barkworth, Mr. Al...|  male|    80|    0|    0| 30.0000|\n",
      "|     1|       0| Baumann, Mr. John D|  male|  null|    0|    0| 25.9250|\n",
      "|     1|       0|Baxter, Mr. Quigg...|  male|    24|    0|    1|247.5208|\n",
      "|     1|       1|Baxter, Mrs. Jame...|female|    50|    0|    1|247.5208|\n",
      "|     1|       1|Bazzani, Miss. Al...|female|    32|    0|    0| 76.2917|\n",
      "|     1|       0|Beattie, Mr. Thomson|  male|    36|    0|    0| 75.2417|\n",
      "+------+--------+--------------------+------+------+-----+-----+--------+\n",
      "only showing top 20 rows\n",
      "\n",
      "root\n",
      " |-- pclass: string (nullable = true)\n",
      " |-- survived: string (nullable = true)\n",
      " |-- name: string (nullable = true)\n",
      " |-- sex: string (nullable = true)\n",
      " |-- age: string (nullable = true)\n",
      " |-- sibsp: string (nullable = true)\n",
      " |-- parch: integer (nullable = true)\n",
      " |-- fare: string (nullable = true)\n",
      "\n"
     ]
    }
   ],
   "source": [
    "#Demonstration\n",
    "titanicNumeric = titanic.withColumn(\"parch\", titanic.parch.cast(\"Int\"))\n",
    "titanicNumeric.show()\n",
    "titanicNumeric.printSchema()"
   ]
  },
  {
   "cell_type": "markdown",
   "metadata": {},
   "source": [
    "<a id=\"D\"></a>\n",
    "### Exercise D. Using cast to change data types\n",
    "\n",
    "1. Change the data types of parch, sibsp, pclass, survived to integers and save this as titanicNumeric. Use .printSchema() to check your work.\n",
    "\n",
    "2. Using titanicNumeric (instead of titanic) and \"Float\" (instead of \"Int\") change the age and fare columns to floats (numbers with decimal places). Use .printSchema()) to check your work.\n",
    "\n",
    "3. Change one of your numeric columns in titanicNumeric back to a string, check it and change it back again.\n",
    "\n",
    "4. Change the survived column in titanicNumeric to a boolean (True or False)."
   ]
  },
  {
   "cell_type": "code",
   "execution_count": 21,
   "metadata": {},
   "outputs": [
    {
     "name": "stdout",
     "output_type": "stream",
     "text": [
      "root\n",
      " |-- pclass: integer (nullable = true)\n",
      " |-- survived: integer (nullable = true)\n",
      " |-- name: string (nullable = true)\n",
      " |-- sex: string (nullable = true)\n",
      " |-- age: string (nullable = true)\n",
      " |-- sibsp: integer (nullable = true)\n",
      " |-- parch: integer (nullable = true)\n",
      " |-- fare: string (nullable = true)\n",
      "\n"
     ]
    }
   ],
   "source": [
    "titanicNumeric = titanic.withColumn(\"parch\", titanic.parch.cast(\"Int\")).withColumn(\"sibsp\", titanic.sibsp.cast(\"Int\")).withColumn(\"pclass\", titanic.pclass.cast(\"Int\")).withColumn(\"survived\", titanic.survived.cast(\"Int\"))\n",
    "titanicNumeric.printSchema()"
   ]
  },
  {
   "cell_type": "code",
   "execution_count": 23,
   "metadata": {},
   "outputs": [
    {
     "name": "stdout",
     "output_type": "stream",
     "text": [
      "root\n",
      " |-- pclass: integer (nullable = true)\n",
      " |-- survived: integer (nullable = true)\n",
      " |-- name: string (nullable = true)\n",
      " |-- sex: string (nullable = true)\n",
      " |-- age: float (nullable = true)\n",
      " |-- sibsp: integer (nullable = true)\n",
      " |-- parch: integer (nullable = true)\n",
      " |-- fare: float (nullable = true)\n",
      "\n"
     ]
    }
   ],
   "source": [
    "titanicNumeric = titanicNumeric.withColumn(\"age\", titanicNumeric.age.cast(\"Float\")).withColumn(\"fare\", titanicNumeric.fare.cast(\"Float\"))\n",
    "titanicNumeric.printSchema()"
   ]
  },
  {
   "cell_type": "code",
   "execution_count": 24,
   "metadata": {},
   "outputs": [
    {
     "name": "stdout",
     "output_type": "stream",
     "text": [
      "root\n",
      " |-- pclass: integer (nullable = true)\n",
      " |-- survived: integer (nullable = true)\n",
      " |-- name: string (nullable = true)\n",
      " |-- sex: string (nullable = true)\n",
      " |-- age: string (nullable = true)\n",
      " |-- sibsp: integer (nullable = true)\n",
      " |-- parch: integer (nullable = true)\n",
      " |-- fare: float (nullable = true)\n",
      "\n"
     ]
    }
   ],
   "source": [
    "titanicNumeric = titanicNumeric.withColumn(\"age\", titanicNumeric.age.cast(\"String\"))\n",
    "titanicNumeric.printSchema()"
   ]
  },
  {
   "cell_type": "code",
   "execution_count": 25,
   "metadata": {},
   "outputs": [
    {
     "name": "stdout",
     "output_type": "stream",
     "text": [
      "root\n",
      " |-- pclass: integer (nullable = true)\n",
      " |-- survived: integer (nullable = true)\n",
      " |-- name: string (nullable = true)\n",
      " |-- sex: string (nullable = true)\n",
      " |-- age: float (nullable = true)\n",
      " |-- sibsp: integer (nullable = true)\n",
      " |-- parch: integer (nullable = true)\n",
      " |-- fare: float (nullable = true)\n",
      "\n"
     ]
    }
   ],
   "source": [
    "titanicNumeric = titanicNumeric.withColumn(\"age\", titanicNumeric.age.cast(\"Float\"))\n",
    "titanicNumeric.printSchema()"
   ]
  },
  {
   "cell_type": "code",
   "execution_count": 26,
   "metadata": {},
   "outputs": [
    {
     "name": "stdout",
     "output_type": "stream",
     "text": [
      "+------+--------+--------------------+------+------+-----+-----+--------+\n",
      "|pclass|survived|                name|   sex|   age|sibsp|parch|    fare|\n",
      "+------+--------+--------------------+------+------+-----+-----+--------+\n",
      "|     1|    true|Allen, Miss. Elis...|female|  29.0|    0|    0|211.3375|\n",
      "|     1|    true|Allison, Master. ...|  male|0.9167|    1|    2|  151.55|\n",
      "|     1|   false|Allison, Miss. He...|female|   2.0|    1|    2|  151.55|\n",
      "|     1|   false|Allison, Mr. Huds...|  male|  30.0|    1|    2|  151.55|\n",
      "|     1|   false|Allison, Mrs. Hud...|female|  25.0|    1|    2|  151.55|\n",
      "|     1|    true| Anderson, Mr. Harry|  male|  48.0|    0|    0|   26.55|\n",
      "|     1|    true|Andrews, Miss. Ko...|female|  63.0|    1|    0| 77.9583|\n",
      "|     1|   false|Andrews, Mr. Thom...|  male|  39.0|    0|    0|     0.0|\n",
      "|     1|    true|Appleton, Mrs. Ed...|female|  53.0|    2|    0| 51.4792|\n",
      "|     1|   false|Artagaveytia, Mr....|  male|  71.0|    0|    0| 49.5042|\n",
      "|     1|   false|Astor, Col. John ...|  male|  47.0|    1|    0| 227.525|\n",
      "|     1|    true|Astor, Mrs. John ...|female|  18.0|    1|    0| 227.525|\n",
      "|     1|    true|Aubart, Mme. Leon...|female|  24.0|    0|    0|    69.3|\n",
      "|     1|    true|\"Barber, Miss. El...|female|  26.0|    0|    0|   78.85|\n",
      "|     1|    true|Barkworth, Mr. Al...|  male|  80.0|    0|    0|    30.0|\n",
      "|     1|   false| Baumann, Mr. John D|  male|  null|    0|    0|  25.925|\n",
      "|     1|   false|Baxter, Mr. Quigg...|  male|  24.0|    0|    1|247.5208|\n",
      "|     1|    true|Baxter, Mrs. Jame...|female|  50.0|    0|    1|247.5208|\n",
      "|     1|    true|Bazzani, Miss. Al...|female|  32.0|    0|    0| 76.2917|\n",
      "|     1|   false|Beattie, Mr. Thomson|  male|  36.0|    0|    0| 75.2417|\n",
      "+------+--------+--------------------+------+------+-----+-----+--------+\n",
      "only showing top 20 rows\n",
      "\n",
      "root\n",
      " |-- pclass: integer (nullable = true)\n",
      " |-- survived: boolean (nullable = true)\n",
      " |-- name: string (nullable = true)\n",
      " |-- sex: string (nullable = true)\n",
      " |-- age: float (nullable = true)\n",
      " |-- sibsp: integer (nullable = true)\n",
      " |-- parch: integer (nullable = true)\n",
      " |-- fare: float (nullable = true)\n",
      "\n"
     ]
    }
   ],
   "source": [
    "titanicNumeric = titanicNumeric.withColumn(\"survived\", titanicNumeric.survived.cast(\"Boolean\"))\n",
    "titanicNumeric.show()\n",
    "titanicNumeric.printSchema()"
   ]
  },
  {
   "cell_type": "markdown",
   "metadata": {
    "papermill": {
     "duration": 0.338066,
     "end_time": "2020-09-27T11:51:53.238763",
     "exception": false,
     "start_time": "2020-09-27T11:51:52.900697",
     "status": "completed"
    },
    "tags": []
   },
   "source": [
    "<a id=\"4\"></a>\n",
    "# 4. Aggregating\n",
    "\n",
    "Aggregations (or summary statistics) are accessed by using .groupBy() to create a GroupedData object.\n",
    "\n",
    "This is a whole new class of objects seperate from DataFrames just so we can group rows to calculate aggregations.\n",
    "\n",
    "Here is a reminder of the ones we will look at in the subsequent exercises.\n",
    "\n",
    "\n",
    ".groupBy() This is used for grouping rows together with summary statistics of each group (usually used with one or more of the summary statistics methods listed below).\n",
    "\n",
    "**Summary Statistics**\n",
    "\n",
    "These are some of the methods that come with a GroupedData object:\n",
    "\n",
    ".min() This gives the smallest value.\n",
    "\n",
    ".max() This gives the largest value.\n",
    "\n",
    ".avg() The documentations cryptically states that this gives the average... look out for which type of average!\n",
    "\n",
    ".sum() This gives the total.\n",
    "\n",
    ".stddev() This gives the sample standard deviation (average spread of the data)."
   ]
  },
  {
   "cell_type": "code",
   "execution_count": 27,
   "metadata": {},
   "outputs": [
    {
     "name": "stdout",
     "output_type": "stream",
     "text": [
      "+---------+\n",
      "|min(fare)|\n",
      "+---------+\n",
      "|     6.75|\n",
      "+---------+\n",
      "\n"
     ]
    }
   ],
   "source": [
    "#Demonstration\n",
    "#This filters to include female passengers, groups the results into a GroupedData object, finds the smallest (minimum) fare, and displays it.\n",
    "condition = \"sex == 'female'\"\n",
    "titanicNumeric.filter(condition).groupBy().min(\"fare\").show()"
   ]
  },
  {
   "cell_type": "markdown",
   "metadata": {},
   "source": [
    "<a id=\"E\"></a>\n",
    "### Exercise E. Creating GroupedData objects and Aggregating\n",
    "\n",
    "1. Find the maximum fare paid by a female, using .max() and display your results.\n",
    "\n",
    "2. Find the smallest and largest fares paid by males and display your results.\n",
    "\n",
    "3. Find the average (using .avg()) fare paid by females.\n",
    "\n",
    "4. What's the total of fares paid by females? Using .sum()"
   ]
  },
  {
   "cell_type": "code",
   "execution_count": 28,
   "metadata": {},
   "outputs": [
    {
     "name": "stdout",
     "output_type": "stream",
     "text": [
      "+---------+\n",
      "|max(fare)|\n",
      "+---------+\n",
      "| 512.3292|\n",
      "+---------+\n",
      "\n"
     ]
    }
   ],
   "source": [
    "condition = \"sex == 'female'\"\n",
    "titanicNumeric.filter(condition).groupBy().max(\"fare\").show()"
   ]
  },
  {
   "cell_type": "code",
   "execution_count": 31,
   "metadata": {},
   "outputs": [
    {
     "name": "stdout",
     "output_type": "stream",
     "text": [
      "+---------+\n",
      "|max(fare)|\n",
      "+---------+\n",
      "| 512.3292|\n",
      "+---------+\n",
      "\n",
      "+---------+\n",
      "|min(fare)|\n",
      "+---------+\n",
      "|      0.0|\n",
      "+---------+\n",
      "\n"
     ]
    }
   ],
   "source": [
    "condition = \"sex == 'male'\"\n",
    "titanicNumeric.filter(condition).groupBy().max(\"fare\").show()\n",
    "titanicNumeric.filter(condition).groupBy().min(\"fare\").show()"
   ]
  },
  {
   "cell_type": "code",
   "execution_count": 34,
   "metadata": {},
   "outputs": [
    {
     "name": "stdout",
     "output_type": "stream",
     "text": [
      "+------------------+\n",
      "|         avg(fare)|\n",
      "+------------------+\n",
      "|46.198096679515594|\n",
      "+------------------+\n",
      "\n",
      "+------------------+\n",
      "|         sum(fare)|\n",
      "+------------------+\n",
      "|21528.313052654266|\n",
      "+------------------+\n",
      "\n"
     ]
    }
   ],
   "source": [
    "condition = \"sex == 'female'\"\n",
    "titanicNumeric.filter(condition).groupBy().avg(\"fare\").show()\n",
    "titanicNumeric.filter(condition).groupBy().sum(\"fare\").show()"
   ]
  },
  {
   "cell_type": "markdown",
   "metadata": {
    "papermill": {
     "duration": 0.234288,
     "end_time": "2020-09-27T11:51:55.705500",
     "exception": false,
     "start_time": "2020-09-27T11:51:55.471212",
     "status": "completed"
    },
    "tags": []
   },
   "source": [
    " **Grouping and Aggregating**\n",
    " \n",
    " Up to this point we've used .groupBy() with no inputs. However, if you choose a column name to put in the parentheses you can group rows together first, then work out a summary for each group.\n",
    " \n",
    " This means we can, for example, quickly compare both female and male passenger results in one step.\n",
    " \n",
    " In this example we will group by \"sex\" (so the rows for female passengers and male passengers are separated).\n",
    " \n",
    " Then we will use .count() to summarise how many rows are in each group.\n"
   ]
  },
  {
   "cell_type": "code",
   "execution_count": 35,
   "metadata": {},
   "outputs": [
    {
     "name": "stdout",
     "output_type": "stream",
     "text": [
      "+------+-----+\n",
      "|   sex|count|\n",
      "+------+-----+\n",
      "|female|  466|\n",
      "|  male|  843|\n",
      "+------+-----+\n",
      "\n"
     ]
    }
   ],
   "source": [
    "titanicNumeric.groupBy(\"sex\").count().show()"
   ]
  },
  {
   "cell_type": "markdown",
   "metadata": {},
   "source": [
    "<a id=\"E\"></a>\n",
    "### Exercise F. Creating GroupedData objects and Aggregating\n",
    "\n",
    "1. Group the rows in titanicNumeric by sex, calculate the smallest fare, and display your results. Compare your answer to the previous exercise.\n",
    "\n",
    "2. Repeat the last question for .max(), .avg() and .sum() to compare how fares differed for male and female passengers.\n",
    "\n",
    "3. Group the rows by pclass and use min, max, and avg to compare the fares for each class.\n",
    "\n",
    "*Challenge*\n",
    "\n",
    "4. Group the rows by pclass and use avg to compare the survival rate for each class.\n",
    "\n",
    "Hints: The survived column is currently boolean and needs to be integer.\n",
    "\n",
    "Using .avg() we can work out a proportion of those who survived: for example, the average of these 5 passengers: 1, 0, 0, 1, 1 is 0.6 or 60%.\n",
    "\n",
    "*Explore*\n",
    "\n",
    "5. How does the survival rate differ for male or female passengers, what about if they have parents/children or siblings/spouses with them? What are the ages of survivors like?"
   ]
  },
  {
   "cell_type": "code",
   "execution_count": 36,
   "metadata": {},
   "outputs": [
    {
     "name": "stdout",
     "output_type": "stream",
     "text": [
      "+------+---------+\n",
      "|   sex|min(fare)|\n",
      "+------+---------+\n",
      "|female|     6.75|\n",
      "|  male|      0.0|\n",
      "+------+---------+\n",
      "\n"
     ]
    }
   ],
   "source": [
    "titanicNumeric.groupBy(\"sex\").min(\"fare\").show()"
   ]
  },
  {
   "cell_type": "code",
   "execution_count": 37,
   "metadata": {},
   "outputs": [
    {
     "name": "stdout",
     "output_type": "stream",
     "text": [
      "+------+---------+\n",
      "|   sex|max(fare)|\n",
      "+------+---------+\n",
      "|female| 512.3292|\n",
      "|  male| 512.3292|\n",
      "+------+---------+\n",
      "\n",
      "+------+------------------+\n",
      "|   sex|         avg(fare)|\n",
      "+------+------------------+\n",
      "|female|46.198096679515594|\n",
      "|  male| 26.15460092523036|\n",
      "+------+------------------+\n",
      "\n",
      "+------+------------------+\n",
      "|   sex|         sum(fare)|\n",
      "+------+------------------+\n",
      "|female|21528.313052654266|\n",
      "|  male| 22022.17397904396|\n",
      "+------+------------------+\n",
      "\n"
     ]
    }
   ],
   "source": [
    "titanicNumeric.groupBy(\"sex\").max(\"fare\").show()\n",
    "titanicNumeric.groupBy(\"sex\").avg(\"fare\").show()\n",
    "titanicNumeric.groupBy(\"sex\").sum(\"fare\").show()"
   ]
  },
  {
   "cell_type": "code",
   "execution_count": 39,
   "metadata": {},
   "outputs": [
    {
     "name": "stdout",
     "output_type": "stream",
     "text": [
      "+------+---------+\n",
      "|pclass|min(fare)|\n",
      "+------+---------+\n",
      "|     1|      0.0|\n",
      "|     3|      0.0|\n",
      "|     2|      0.0|\n",
      "+------+---------+\n",
      "\n",
      "+------+---------+\n",
      "|pclass|max(fare)|\n",
      "+------+---------+\n",
      "|     1| 512.3292|\n",
      "|     3|    69.55|\n",
      "|     2|     73.5|\n",
      "+------+---------+\n",
      "\n",
      "+------+------------------+\n",
      "|pclass|         avg(fare)|\n",
      "+------+------------------+\n",
      "|     1| 87.50899178472466|\n",
      "|     3|13.302888809287616|\n",
      "|     2|21.179196419698666|\n",
      "+------+------------------+\n",
      "\n"
     ]
    }
   ],
   "source": [
    "titanicNumeric.groupBy(\"pclass\").min(\"fare\").show()\n",
    "titanicNumeric.groupBy(\"pclass\").max(\"fare\").show()\n",
    "titanicNumeric.groupBy(\"pclass\").avg(\"fare\").show()"
   ]
  },
  {
   "cell_type": "code",
   "execution_count": 42,
   "metadata": {},
   "outputs": [
    {
     "name": "stdout",
     "output_type": "stream",
     "text": [
      "root\n",
      " |-- pclass: integer (nullable = true)\n",
      " |-- survived: integer (nullable = true)\n",
      " |-- name: string (nullable = true)\n",
      " |-- sex: string (nullable = true)\n",
      " |-- age: float (nullable = true)\n",
      " |-- sibsp: integer (nullable = true)\n",
      " |-- parch: integer (nullable = true)\n",
      " |-- fare: float (nullable = true)\n",
      "\n"
     ]
    }
   ],
   "source": [
    "titanicNumeric = titanicNumeric.withColumn(\"survived\", titanicNumeric.survived.cast(\"Int\"))\n",
    "titanicNumeric.printSchema()"
   ]
  },
  {
   "cell_type": "code",
   "execution_count": 43,
   "metadata": {},
   "outputs": [
    {
     "name": "stdout",
     "output_type": "stream",
     "text": [
      "+------+------------------+\n",
      "|pclass|     avg(survived)|\n",
      "+------+------------------+\n",
      "|     1|0.6191950464396285|\n",
      "|     3|0.2552891396332863|\n",
      "|     2|0.4296028880866426|\n",
      "+------+------------------+\n",
      "\n"
     ]
    }
   ],
   "source": [
    "titanicNumeric.groupBy(\"pclass\").avg(\"survived\").show()"
   ]
  },
  {
   "cell_type": "code",
   "execution_count": 44,
   "metadata": {},
   "outputs": [
    {
     "name": "stdout",
     "output_type": "stream",
     "text": [
      "+------+-------------------+\n",
      "|   sex|      avg(survived)|\n",
      "+------+-------------------+\n",
      "|female| 0.7274678111587983|\n",
      "|  male|0.19098457888493475|\n",
      "+------+-------------------+\n",
      "\n"
     ]
    }
   ],
   "source": [
    "#How does the survival rate differ for male or female passengers\n",
    "titanicNumeric.groupBy(\"sex\").avg(\"survived\").show()"
   ]
  },
  {
   "cell_type": "code",
   "execution_count": 45,
   "metadata": {},
   "outputs": [
    {
     "name": "stdout",
     "output_type": "stream",
     "text": [
      "+-----+-------------------+\n",
      "|parch|      avg(survived)|\n",
      "+-----+-------------------+\n",
      "|    1| 0.5882352941176471|\n",
      "|    6|                0.0|\n",
      "|    3|              0.625|\n",
      "|    5|0.16666666666666666|\n",
      "|    9|                0.0|\n",
      "|    4|0.16666666666666666|\n",
      "|    2|  0.504424778761062|\n",
      "|    0|0.33532934131736525|\n",
      "+-----+-------------------+\n",
      "\n"
     ]
    }
   ],
   "source": [
    "#What about if they have parents/children with them?\n",
    "titanicNumeric.groupBy(\"parch\").avg(\"survived\").show()"
   ]
  },
  {
   "cell_type": "code",
   "execution_count": 46,
   "metadata": {},
   "outputs": [
    {
     "name": "stdout",
     "output_type": "stream",
     "text": [
      "+-----+-------------------+\n",
      "|sibsp|      avg(survived)|\n",
      "+-----+-------------------+\n",
      "|    1| 0.5109717868338558|\n",
      "|    3|                0.3|\n",
      "|    5|                0.0|\n",
      "|    4|0.13636363636363635|\n",
      "|    8|                0.0|\n",
      "|    2| 0.4523809523809524|\n",
      "|    0| 0.3468013468013468|\n",
      "+-----+-------------------+\n",
      "\n"
     ]
    }
   ],
   "source": [
    "#or siblings/spouses with them?\n",
    "titanicNumeric.groupBy(\"sibsp\").avg(\"survived\").show()"
   ]
  },
  {
   "cell_type": "code",
   "execution_count": 48,
   "metadata": {},
   "outputs": [
    {
     "name": "stdout",
     "output_type": "stream",
     "text": [
      "+--------+--------+\n",
      "|survived|min(age)|\n",
      "+--------+--------+\n",
      "|       1|  0.1667|\n",
      "|       0|  0.3333|\n",
      "+--------+--------+\n",
      "\n",
      "+--------+------------------+\n",
      "|survived|          avg(age)|\n",
      "+--------+------------------+\n",
      "|       1|28.918228103070405|\n",
      "|       0|30.545368820669577|\n",
      "+--------+------------------+\n",
      "\n",
      "+--------+--------+\n",
      "|survived|max(age)|\n",
      "+--------+--------+\n",
      "|       1|    80.0|\n",
      "|       0|    74.0|\n",
      "+--------+--------+\n",
      "\n"
     ]
    }
   ],
   "source": [
    "#What are the ages of survivors like?\n",
    "titanicNumeric.groupBy(\"survived\").min(\"age\").show()\n",
    "titanicNumeric.groupBy(\"survived\").avg(\"age\").show()\n",
    "titanicNumeric.groupBy(\"survived\").max(\"age\").show()"
   ]
  },
  {
   "cell_type": "markdown",
   "metadata": {
    "papermill": {
     "duration": 0.359198,
     "end_time": "2020-09-27T11:52:01.167545",
     "exception": false,
     "start_time": "2020-09-27T11:52:00.808347",
     "status": "completed"
    },
    "tags": []
   },
   "source": [
    "**Measuring Spread**\n",
    "\n",
    "In the last part of the *Explore* solutions there didn't appear to be very much difference between the youngest, oldest, and average aged passenger when it came to survival rate.\n",
    "\n",
    "There might be a difference in how spread out the data is though on average - especially if we want less emphasis on the youngest age recorded (which does look a bit erroneous!).\n",
    "\n",
    "This can be measured using standard deviation (.stddev()) - the smaller the value the more consistent or closer the data is with the mean.\n",
    "\n",
    "To use .stddev() we need to import some additional functions which contains a section on aggregate (agg for short) functions.\n",
    "\n",
    "\n",
    "We can also use .agg() method to pass an aggregate column expression that uses any of the aggregate functions from the pyspark.sql.functions submodule.\n",
    "\n",
    "This submodule contains many useful functions for computing things like standard deviations. All the aggregation functions in this submodule take the name of a column in a GroupedData table."
   ]
  },
  {
   "cell_type": "code",
   "execution_count": 50,
   "metadata": {
    "papermill": {
     "duration": 1.536793,
     "end_time": "2020-09-27T11:52:04.819288",
     "exception": false,
     "start_time": "2020-09-27T11:52:03.282495",
     "status": "completed"
    },
    "tags": []
   },
   "outputs": [
    {
     "name": "stdout",
     "output_type": "stream",
     "text": [
      "+--------+------------------+\n",
      "|survived|  stddev_samp(age)|\n",
      "+--------+------------------+\n",
      "|       1|15.061481385024198|\n",
      "|       0| 13.92253872102884|\n",
      "+--------+------------------+\n",
      "\n"
     ]
    }
   ],
   "source": [
    "# Demonstration\n",
    "import pyspark.sql.functions as sqlf\n",
    "\n",
    "titanicNumeric.groupBy(\"survived\").agg(sqlf.stddev(\"age\")).show()"
   ]
  },
  {
   "cell_type": "markdown",
   "metadata": {
    "papermill": {
     "duration": 0.236913,
     "end_time": "2020-09-27T11:52:09.887452",
     "exception": false,
     "start_time": "2020-09-27T11:52:09.650539",
     "status": "completed"
    },
    "tags": []
   },
   "source": [
    "<a id=\"6\"></a>\n",
    "# 6. Summary\n",
    "\n",
    "In this section we have learnt about how data frames are used in many languages to store tables of data as collections of columns.\n",
    "\n",
    "We have used SparkSession - a platform that contains SparkContext, within which you can create Spark DataFrames by connecting to data sources in many different ways.\n",
    "\n",
    "During the exercises we have explored the following methods in particular. Take a moment to summarise each of these for yourself.\n",
    "\n",
    "**DataFrame methods**\n",
    "\n",
    ".filter(condition) This will filter rows using the condition you input and will return all columns (alternative to SELECT * FROM DataFrame WHERE condition).\n",
    "\n",
    ".isNotNull() This is a useful method for creating conditions that require a data entry to be non-null.\n",
    "\n",
    ".select(columns) This will return just the columns you request (alternative to SELECT columns FROM DataFrame).\n",
    "\n",
    ".printSchema() This will show you the table schema. Also: .summary() or .describe(). These are useful if you want a quick summary view.\n",
    "\n",
    ".groupBy() This is used for grouping rows together with summary statistics of each group (usually used with one or more of the summary statistics methods listed below).\n",
    "\n",
    ".withColumnRenamed() This creates a new data frame with the title of a column renamed. It needs both the existing column title, and the new one as inputs.\n",
    "\n",
    ".join() This joins two data frames: the one before the dot with the one you give as the first input. You can optionally give two further inputs: on: to specify which columns are to be matched and how: to specify the type of join (the default is an inner join - where a row is from both tables and repeated rows are not included).\n",
    "\n",
    "**Column methods**\n",
    "\n",
    ".cast() For changing the data type of a column.\n",
    "\n",
    "**Summary Stats**\n",
    "\n",
    ".min() This gives the smallest value.\n",
    "\n",
    ".max() This gives the largest value.\n",
    "\n",
    ".avg() The documentations cryptically states that this gives the average... look out for which type of average!\n",
    "\n",
    ".sum() This gives the total.\n",
    "\n",
    ".stddev() This gives the sample standard deviation (average spread of the data).\n",
    "\n",
    "*Further Reading*\n",
    "\n",
    "Published documentation with method listings on Column, Functions, and Grouping can be found here:\n",
    "\n",
    "https://spark.apache.org/docs/latest/api/python/reference/pyspark.sql/column.html\n",
    "\n",
    "https://spark.apache.org/docs/latest/api/python/reference/pyspark.sql/functions.html\n",
    "\n",
    "https://spark.apache.org/docs/latest/api/python/reference/pyspark.sql/grouping.html\n"
   ]
  }
 ],
 "metadata": {
  "kernelspec": {
   "display_name": "Python 3 (ipykernel)",
   "language": "python",
   "name": "python3"
  },
  "language_info": {
   "codemirror_mode": {
    "name": "ipython",
    "version": 3
   },
   "file_extension": ".py",
   "mimetype": "text/x-python",
   "name": "python",
   "nbconvert_exporter": "python",
   "pygments_lexer": "ipython3",
   "version": "3.9.12"
  },
  "papermill": {
   "duration": 101.069937,
   "end_time": "2020-09-27T11:52:10.238010",
   "environment_variables": {},
   "exception": null,
   "input_path": "__notebook__.ipynb",
   "output_path": "__notebook__.ipynb",
   "parameters": {},
   "start_time": "2020-09-27T11:50:29.168073",
   "version": "2.1.0"
  }
 },
 "nbformat": 4,
 "nbformat_minor": 4
}
