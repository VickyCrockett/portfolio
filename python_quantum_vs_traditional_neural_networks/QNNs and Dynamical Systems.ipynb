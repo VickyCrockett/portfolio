{
 "cells": [
  {
   "cell_type": "markdown",
   "id": "eef6ad1b",
   "metadata": {},
   "source": [
    "# MNIST and Data Preparation\n",
    "\n"
   ]
  },
  {
   "cell_type": "code",
   "execution_count": null,
   "id": "8e067f21",
   "metadata": {},
   "outputs": [],
   "source": [
    "import numpy as np\n",
    "import tensorflow as tf\n",
    "from tensorflow import keras\n",
    "from tensorflow.keras import layers"
   ]
  },
  {
   "cell_type": "code",
   "execution_count": 3,
   "id": "3bf4c359",
   "metadata": {},
   "outputs": [],
   "source": [
    "(XTrain, yTrain), (XTest, yTest) = keras.datasets.mnist.load_data()"
   ]
  },
  {
   "cell_type": "code",
   "execution_count": 4,
   "id": "62a86e68",
   "metadata": {},
   "outputs": [],
   "source": [
    "#Rescale the pixel values so they're 0 to 1 instead of 0 to 255\n",
    "XTrain = XTrain.astype('float32')/255\n",
    "XTest = XTest.astype('float32')/255"
   ]
  },
  {
   "cell_type": "code",
   "execution_count": 5,
   "id": "63a4b2dc",
   "metadata": {},
   "outputs": [],
   "source": [
    "#Categorise the labels (one-hot encoding)\n",
    "yTrain = keras.utils.to_categorical(yTrain,10)\n",
    "yTest = keras.utils.to_categorical(yTest,10)"
   ]
  },
  {
   "cell_type": "markdown",
   "id": "651ea12d",
   "metadata": {},
   "source": [
    "# First a non-Quantum Neural Network"
   ]
  },
  {
   "cell_type": "code",
   "execution_count": 6,
   "id": "7a3b2218",
   "metadata": {},
   "outputs": [],
   "source": [
    "#Set up the neural network using 28x28 for the input layer which is fully (densely) connected to 128 node in a single hidden layer, and the output will be one of 10 categories\n",
    "NN = keras.Sequential(\n",
    "[\n",
    "    layers.Flatten(input_shape = (28,28)),\n",
    "    layers.Dense(128, activation = 'relu'),\n",
    "    layers.Dense(10, activation = 'softmax')\n",
    "]\n",
    ")"
   ]
  },
  {
   "cell_type": "code",
   "execution_count": 7,
   "id": "44682362",
   "metadata": {},
   "outputs": [],
   "source": [
    "#Compile the network\n",
    "NN.compile(optimizer = 'adam', loss = 'categorical_crossentropy', metrics = ['accuracy'])"
   ]
  },
  {
   "cell_type": "code",
   "execution_count": 8,
   "id": "d513a1cf",
   "metadata": {},
   "outputs": [
    {
     "name": "stdout",
     "output_type": "stream",
     "text": [
      "Epoch 1/5\n",
      "1875/1875 [==============================] - 4s 2ms/step - loss: 0.2571 - accuracy: 0.9256 - val_loss: 0.1478 - val_accuracy: 0.9553\n",
      "Epoch 2/5\n",
      "1875/1875 [==============================] - 3s 2ms/step - loss: 0.1128 - accuracy: 0.9667 - val_loss: 0.1020 - val_accuracy: 0.9679\n",
      "Epoch 3/5\n",
      "1875/1875 [==============================] - 3s 2ms/step - loss: 0.0778 - accuracy: 0.9764 - val_loss: 0.0828 - val_accuracy: 0.9728\n",
      "Epoch 4/5\n",
      "1875/1875 [==============================] - 3s 2ms/step - loss: 0.0574 - accuracy: 0.9826 - val_loss: 0.0791 - val_accuracy: 0.9754\n",
      "Epoch 5/5\n",
      "1875/1875 [==============================] - 3s 2ms/step - loss: 0.0456 - accuracy: 0.9858 - val_loss: 0.0799 - val_accuracy: 0.9764\n"
     ]
    },
    {
     "data": {
      "text/plain": [
       "<keras.callbacks.History at 0x2459bea5a90>"
      ]
     },
     "execution_count": 8,
     "metadata": {},
     "output_type": "execute_result"
    }
   ],
   "source": [
    "#Train the model using the training data\n",
    "NN.fit(XTrain, yTrain, epochs = 5, batch_size = 32, validation_data = (XTest, yTest))"
   ]
  },
  {
   "cell_type": "markdown",
   "id": "d723b6fe",
   "metadata": {},
   "source": [
    "# Now with a Quantum Neural Network"
   ]
  },
  {
   "cell_type": "code",
   "execution_count": 11,
   "id": "356056c9",
   "metadata": {},
   "outputs": [],
   "source": [
    "from qiskit import QuantumCircuit, Aer, execute\n",
    "from qiskit.circuit import Parameter\n",
    "from qiskit.tools.monitor import job_monitor"
   ]
  },
  {
   "cell_type": "code",
   "execution_count": 17,
   "id": "12d80d5d",
   "metadata": {},
   "outputs": [],
   "source": [
    "#Parameters\n",
    "numberOfQubits = 3\n",
    "layers = 2\n",
    "phi = Parameter('phi')"
   ]
  },
  {
   "cell_type": "code",
   "execution_count": 13,
   "id": "7172b143",
   "metadata": {},
   "outputs": [],
   "source": [
    "#Set up the quantum circuit\n",
    "qc = QuantumCircuit(numberOfQubits)"
   ]
  },
  {
   "cell_type": "code",
   "execution_count": 18,
   "id": "15aba9ad",
   "metadata": {},
   "outputs": [
    {
     "ename": "CircuitError",
     "evalue": "\"Invalid param type <class 'numpy.ndarray'> for gate ry.\"",
     "output_type": "error",
     "traceback": [
      "\u001b[1;31m---------------------------------------------------------------------------\u001b[0m",
      "\u001b[1;31mCircuitError\u001b[0m                              Traceback (most recent call last)",
      "Input \u001b[1;32mIn [18]\u001b[0m, in \u001b[0;36m<cell line: 2>\u001b[1;34m()\u001b[0m\n\u001b[0;32m      1\u001b[0m \u001b[38;5;66;03m#Input layer\u001b[39;00m\n\u001b[0;32m      2\u001b[0m \u001b[38;5;28;01mfor\u001b[39;00m count \u001b[38;5;129;01min\u001b[39;00m \u001b[38;5;28mrange\u001b[39m(numberOfQubits):\n\u001b[1;32m----> 3\u001b[0m     \u001b[43mqc\u001b[49m\u001b[38;5;241;43m.\u001b[39;49m\u001b[43mry\u001b[49m\u001b[43m(\u001b[49m\u001b[43mtheta\u001b[49m\u001b[38;5;241;43m*\u001b[39;49m\u001b[43mXTrain\u001b[49m\u001b[43m[\u001b[49m\u001b[38;5;241;43m0\u001b[39;49m\u001b[43m]\u001b[49m\u001b[43m[\u001b[49m\u001b[43mcount\u001b[49m\u001b[43m]\u001b[49m\u001b[43m,\u001b[49m\u001b[43m \u001b[49m\u001b[43mcount\u001b[49m\u001b[43m)\u001b[49m\n",
      "File \u001b[1;32m~\\anaconda3\\envs\\RTutorial\\lib\\site-packages\\qiskit\\circuit\\quantumcircuit.py:3222\u001b[0m, in \u001b[0;36mQuantumCircuit.ry\u001b[1;34m(self, theta, qubit, label)\u001b[0m\n\u001b[0;32m   3208\u001b[0m \u001b[38;5;124;03m\"\"\"Apply :class:`~qiskit.circuit.library.RYGate`.\u001b[39;00m\n\u001b[0;32m   3209\u001b[0m \n\u001b[0;32m   3210\u001b[0m \u001b[38;5;124;03mFor the full matrix form of this gate, see the underlying gate documentation.\u001b[39;00m\n\u001b[1;32m   (...)\u001b[0m\n\u001b[0;32m   3218\u001b[0m \u001b[38;5;124;03m    A handle to the instructions created.\u001b[39;00m\n\u001b[0;32m   3219\u001b[0m \u001b[38;5;124;03m\"\"\"\u001b[39;00m\n\u001b[0;32m   3220\u001b[0m \u001b[38;5;28;01mfrom\u001b[39;00m \u001b[38;5;21;01m.\u001b[39;00m\u001b[38;5;21;01mlibrary\u001b[39;00m\u001b[38;5;21;01m.\u001b[39;00m\u001b[38;5;21;01mstandard_gates\u001b[39;00m\u001b[38;5;21;01m.\u001b[39;00m\u001b[38;5;21;01mry\u001b[39;00m \u001b[38;5;28;01mimport\u001b[39;00m RYGate\n\u001b[1;32m-> 3222\u001b[0m \u001b[38;5;28;01mreturn\u001b[39;00m \u001b[38;5;28mself\u001b[39m\u001b[38;5;241m.\u001b[39mappend(\u001b[43mRYGate\u001b[49m\u001b[43m(\u001b[49m\u001b[43mtheta\u001b[49m\u001b[43m,\u001b[49m\u001b[43m \u001b[49m\u001b[43mlabel\u001b[49m\u001b[38;5;241;43m=\u001b[39;49m\u001b[43mlabel\u001b[49m\u001b[43m)\u001b[49m, [qubit], [])\n",
      "File \u001b[1;32m~\\anaconda3\\envs\\RTutorial\\lib\\site-packages\\qiskit\\circuit\\library\\standard_gates\\ry.py:54\u001b[0m, in \u001b[0;36mRYGate.__init__\u001b[1;34m(self, theta, label)\u001b[0m\n\u001b[0;32m     52\u001b[0m \u001b[38;5;28;01mdef\u001b[39;00m \u001b[38;5;21m__init__\u001b[39m(\u001b[38;5;28mself\u001b[39m, theta: ParameterValueType, label: Optional[\u001b[38;5;28mstr\u001b[39m] \u001b[38;5;241m=\u001b[39m \u001b[38;5;28;01mNone\u001b[39;00m):\n\u001b[0;32m     53\u001b[0m     \u001b[38;5;124;03m\"\"\"Create new RY gate.\"\"\"\u001b[39;00m\n\u001b[1;32m---> 54\u001b[0m     \u001b[38;5;28;43msuper\u001b[39;49m\u001b[43m(\u001b[49m\u001b[43m)\u001b[49m\u001b[38;5;241;43m.\u001b[39;49m\u001b[38;5;21;43m__init__\u001b[39;49m\u001b[43m(\u001b[49m\u001b[38;5;124;43m\"\u001b[39;49m\u001b[38;5;124;43mry\u001b[39;49m\u001b[38;5;124;43m\"\u001b[39;49m\u001b[43m,\u001b[49m\u001b[43m \u001b[49m\u001b[38;5;241;43m1\u001b[39;49m\u001b[43m,\u001b[49m\u001b[43m \u001b[49m\u001b[43m[\u001b[49m\u001b[43mtheta\u001b[49m\u001b[43m]\u001b[49m\u001b[43m,\u001b[49m\u001b[43m \u001b[49m\u001b[43mlabel\u001b[49m\u001b[38;5;241;43m=\u001b[39;49m\u001b[43mlabel\u001b[49m\u001b[43m)\u001b[49m\n",
      "File \u001b[1;32m~\\anaconda3\\envs\\RTutorial\\lib\\site-packages\\qiskit\\circuit\\gate.py:38\u001b[0m, in \u001b[0;36mGate.__init__\u001b[1;34m(self, name, num_qubits, params, label)\u001b[0m\n\u001b[0;32m     29\u001b[0m \u001b[38;5;124;03m\"\"\"Create a new gate.\u001b[39;00m\n\u001b[0;32m     30\u001b[0m \n\u001b[0;32m     31\u001b[0m \u001b[38;5;124;03mArgs:\u001b[39;00m\n\u001b[1;32m   (...)\u001b[0m\n\u001b[0;32m     35\u001b[0m \u001b[38;5;124;03m    label: An optional label for the gate.\u001b[39;00m\n\u001b[0;32m     36\u001b[0m \u001b[38;5;124;03m\"\"\"\u001b[39;00m\n\u001b[0;32m     37\u001b[0m \u001b[38;5;28mself\u001b[39m\u001b[38;5;241m.\u001b[39mdefinition \u001b[38;5;241m=\u001b[39m \u001b[38;5;28;01mNone\u001b[39;00m\n\u001b[1;32m---> 38\u001b[0m \u001b[38;5;28;43msuper\u001b[39;49m\u001b[43m(\u001b[49m\u001b[43m)\u001b[49m\u001b[38;5;241;43m.\u001b[39;49m\u001b[38;5;21;43m__init__\u001b[39;49m\u001b[43m(\u001b[49m\u001b[43mname\u001b[49m\u001b[43m,\u001b[49m\u001b[43m \u001b[49m\u001b[43mnum_qubits\u001b[49m\u001b[43m,\u001b[49m\u001b[43m \u001b[49m\u001b[38;5;241;43m0\u001b[39;49m\u001b[43m,\u001b[49m\u001b[43m \u001b[49m\u001b[43mparams\u001b[49m\u001b[43m,\u001b[49m\u001b[43m \u001b[49m\u001b[43mlabel\u001b[49m\u001b[38;5;241;43m=\u001b[39;49m\u001b[43mlabel\u001b[49m\u001b[43m)\u001b[49m\n",
      "File \u001b[1;32m~\\anaconda3\\envs\\RTutorial\\lib\\site-packages\\qiskit\\circuit\\instruction.py:105\u001b[0m, in \u001b[0;36mInstruction.__init__\u001b[1;34m(self, name, num_qubits, num_clbits, params, duration, unit, label)\u001b[0m\n\u001b[0;32m    102\u001b[0m \u001b[38;5;28mself\u001b[39m\u001b[38;5;241m.\u001b[39m_duration \u001b[38;5;241m=\u001b[39m duration\n\u001b[0;32m    103\u001b[0m \u001b[38;5;28mself\u001b[39m\u001b[38;5;241m.\u001b[39m_unit \u001b[38;5;241m=\u001b[39m unit\n\u001b[1;32m--> 105\u001b[0m \u001b[38;5;28mself\u001b[39m\u001b[38;5;241m.\u001b[39mparams \u001b[38;5;241m=\u001b[39m params\n",
      "File \u001b[1;32m~\\anaconda3\\envs\\RTutorial\\lib\\site-packages\\qiskit\\circuit\\instruction.py:223\u001b[0m, in \u001b[0;36mInstruction.params\u001b[1;34m(self, parameters)\u001b[0m\n\u001b[0;32m    221\u001b[0m     \u001b[38;5;28mself\u001b[39m\u001b[38;5;241m.\u001b[39m_params\u001b[38;5;241m.\u001b[39mappend(single_param)\n\u001b[0;32m    222\u001b[0m \u001b[38;5;28;01melse\u001b[39;00m:\n\u001b[1;32m--> 223\u001b[0m     \u001b[38;5;28mself\u001b[39m\u001b[38;5;241m.\u001b[39m_params\u001b[38;5;241m.\u001b[39mappend(\u001b[38;5;28;43mself\u001b[39;49m\u001b[38;5;241;43m.\u001b[39;49m\u001b[43mvalidate_parameter\u001b[49m\u001b[43m(\u001b[49m\u001b[43msingle_param\u001b[49m\u001b[43m)\u001b[49m)\n",
      "File \u001b[1;32m~\\anaconda3\\envs\\RTutorial\\lib\\site-packages\\qiskit\\circuit\\gate.py:237\u001b[0m, in \u001b[0;36mGate.validate_parameter\u001b[1;34m(self, parameter)\u001b[0m\n\u001b[0;32m    235\u001b[0m     \u001b[38;5;28;01mreturn\u001b[39;00m parameter\u001b[38;5;241m.\u001b[39mitem()\n\u001b[0;32m    236\u001b[0m \u001b[38;5;28;01melse\u001b[39;00m:\n\u001b[1;32m--> 237\u001b[0m     \u001b[38;5;28;01mraise\u001b[39;00m CircuitError(\u001b[38;5;124mf\u001b[39m\u001b[38;5;124m\"\u001b[39m\u001b[38;5;124mInvalid param type \u001b[39m\u001b[38;5;132;01m{\u001b[39;00m\u001b[38;5;28mtype\u001b[39m(parameter)\u001b[38;5;132;01m}\u001b[39;00m\u001b[38;5;124m for gate \u001b[39m\u001b[38;5;132;01m{\u001b[39;00m\u001b[38;5;28mself\u001b[39m\u001b[38;5;241m.\u001b[39mname\u001b[38;5;132;01m}\u001b[39;00m\u001b[38;5;124m.\u001b[39m\u001b[38;5;124m\"\u001b[39m)\n",
      "\u001b[1;31mCircuitError\u001b[0m: \"Invalid param type <class 'numpy.ndarray'> for gate ry.\""
     ]
    }
   ],
   "source": [
    "#Input layer\n",
    "for count in range(numberOfQubits):\n",
    "    qc.ry(theta*XTrain[0][count], count)"
   ]
  }
 ],
 "metadata": {
  "kernelspec": {
   "display_name": "Python 3 (ipykernel)",
   "language": "python",
   "name": "python3"
  },
  "language_info": {
   "codemirror_mode": {
    "name": "ipython",
    "version": 3
   },
   "file_extension": ".py",
   "mimetype": "text/x-python",
   "name": "python",
   "nbconvert_exporter": "python",
   "pygments_lexer": "ipython3",
   "version": "3.9.12"
  }
 },
 "nbformat": 4,
 "nbformat_minor": 5
}
